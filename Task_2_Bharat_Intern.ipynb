{
  "nbformat": 4,
  "nbformat_minor": 0,
  "metadata": {
    "colab": {
      "provenance": []
    },
    "kernelspec": {
      "name": "python3",
      "display_name": "Python 3"
    },
    "language_info": {
      "name": "python"
    }
  },
  "cells": [
    {
      "cell_type": "code",
      "source": [
        "import pandas as pd\n",
        "from surprise import Dataset, Reader, KNNBasic\n",
        "from surprise import accuracy"
      ],
      "metadata": {
        "id": "EP9Fjkzvxe99"
      },
      "execution_count": null,
      "outputs": []
    },
    {
      "cell_type": "code",
      "source": [
        "# Load the MovieLens dataset\n",
        "data = Dataset.load_builtin('ml-100k')"
      ],
      "metadata": {
        "id": "ObBgS-mfxuag"
      },
      "execution_count": null,
      "outputs": []
    },
    {
      "cell_type": "code",
      "source": [
        "# Split the data into training and testing sets\n",
        "from surprise.model_selection import train_test_split\n",
        "trainset, testset = train_test_split(data, test_size=0.25)"
      ],
      "metadata": {
        "id": "_OhgQXIfxufj"
      },
      "execution_count": null,
      "outputs": []
    },
    {
      "cell_type": "code",
      "source": [
        "# Use the KNNBasic collaborative filtering algorithm\n",
        "sim_options = {'name': 'cosine', 'user_based': False}\n",
        "algo = KNNBasic(sim_options=sim_options)"
      ],
      "metadata": {
        "id": "xz1wv7Hzxui1"
      },
      "execution_count": null,
      "outputs": []
    },
    {
      "cell_type": "code",
      "source": [
        "# Train the algorithm on the training set\n",
        "algo.fit(trainset)"
      ],
      "metadata": {
        "colab": {
          "base_uri": "https://localhost:8080/"
        },
        "id": "pv_ppGwzxumL",
        "outputId": "f13f1662-0107-4d02-f069-c20f49ab845e"
      },
      "execution_count": null,
      "outputs": [
        {
          "output_type": "stream",
          "name": "stdout",
          "text": [
            "Computing the cosine similarity matrix...\n",
            "Done computing similarity matrix.\n"
          ]
        },
        {
          "output_type": "execute_result",
          "data": {
            "text/plain": [
              "<surprise.prediction_algorithms.knns.KNNBasic at 0x7c8051df8d60>"
            ]
          },
          "metadata": {},
          "execution_count": 22
        }
      ]
    },
    {
      "cell_type": "code",
      "source": [
        "# Make predictions on the testing set\n",
        "predictions = algo.test(testset)"
      ],
      "metadata": {
        "id": "2bXzFGGLxupR"
      },
      "execution_count": null,
      "outputs": []
    },
    {
      "cell_type": "code",
      "source": [
        "# Evaluate the performance of the model\n",
        "accuracy.rmse(predictions)"
      ],
      "metadata": {
        "colab": {
          "base_uri": "https://localhost:8080/"
        },
        "id": "Oeo-rY_wxusT",
        "outputId": "29389840-846b-412a-f634-ac927c3d853a"
      },
      "execution_count": null,
      "outputs": [
        {
          "output_type": "stream",
          "name": "stdout",
          "text": [
            "RMSE: 1.0264\n"
          ]
        },
        {
          "output_type": "execute_result",
          "data": {
            "text/plain": [
              "1.0263991939424977"
            ]
          },
          "metadata": {},
          "execution_count": 24
        }
      ]
    },
    {
      "cell_type": "code",
      "source": [
        "def get_top_n_recommendations(predictions, n=10):\n",
        "    # Create a dictionary to store the predicted ratings for each movie\n",
        "    top_n = {}\n",
        "\n",
        "    for uid, iid, true_r, est, _ in predictions:\n",
        "        if uid not in top_n:\n",
        "            top_n[uid] = []\n",
        "\n",
        "        top_n[uid].append((iid, est))\n",
        "\n",
        "    # Sort the predicted ratings for each user and get the top N recommendations\n",
        "    for uid, user_ratings in top_n.items():\n",
        "        user_ratings.sort(key=lambda x: x[1], reverse=True)\n",
        "        top_n[uid] = user_ratings[:n]\n",
        "\n",
        "    return top_n\n"
      ],
      "metadata": {
        "id": "hKEgO9rvxuvN"
      },
      "execution_count": null,
      "outputs": []
    },
    {
      "cell_type": "code",
      "source": [
        "# Get recommendations for a specific user (replace with a user ID from your dataset)\n",
        "user_id = str(196)\n",
        "user_recommendations = get_top_n_recommendations(predictions, n=10)[user_id]\n",
        "\n",
        "# Print the recommended movie IDs and predicted ratings\n",
        "print(f\"Top 10 recommendations for user {user_id}:\")\n",
        "for movie_id, predicted_rating in user_recommendations:\n",
        "    print(f\"Movie ID: {movie_id}, Predicted Rating: {predicted_rating}\")\n"
      ],
      "metadata": {
        "colab": {
          "base_uri": "https://localhost:8080/"
        },
        "id": "BHD-Zs9AzEhn",
        "outputId": "5f0c93e9-7fd5-4dfa-bc89-e282f95a7af8"
      },
      "execution_count": null,
      "outputs": [
        {
          "output_type": "stream",
          "name": "stdout",
          "text": [
            "Top 10 recommendations for user 196:\n",
            "Movie ID: 94, Predicted Rating: 3.79859847362831\n",
            "Movie ID: 393, Predicted Rating: 3.7935733236763047\n",
            "Movie ID: 692, Predicted Rating: 3.790040628429909\n",
            "Movie ID: 110, Predicted Rating: 3.7742762897436646\n",
            "Movie ID: 173, Predicted Rating: 3.7703392489288556\n",
            "Movie ID: 580, Predicted Rating: 3.768628142136856\n",
            "Movie ID: 251, Predicted Rating: 3.7650748035543753\n",
            "Movie ID: 1007, Predicted Rating: 3.7629120180465456\n",
            "Movie ID: 25, Predicted Rating: 3.761530881856752\n"
          ]
        }
      ]
    }
  ]
}